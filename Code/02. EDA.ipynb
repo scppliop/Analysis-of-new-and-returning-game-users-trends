{
 "cells": [
  {
   "cell_type": "markdown",
   "metadata": {},
   "source": [
    "## 패키지 import"
   ]
  },
  {
   "cell_type": "code",
   "execution_count": 2,
   "metadata": {},
   "outputs": [],
   "source": [
    "import pandas as pd"
   ]
  },
  {
   "cell_type": "markdown",
   "metadata": {},
   "source": [
    "## 인벤\n",
    " - 제목에 [00]제거(기타, 잡담 등)\n",
    " - 제목 + 내용 셀 추가\n",
    " - 신규 / 복귀 유저 관련 df 따로 제작"
   ]
  },
  {
   "cell_type": "code",
   "execution_count": 11,
   "metadata": {
    "scrolled": true
   },
   "outputs": [
    {
     "data": {
      "text/html": [
       "<div>\n",
       "<style scoped>\n",
       "    .dataframe tbody tr th:only-of-type {\n",
       "        vertical-align: middle;\n",
       "    }\n",
       "\n",
       "    .dataframe tbody tr th {\n",
       "        vertical-align: top;\n",
       "    }\n",
       "\n",
       "    .dataframe thead th {\n",
       "        text-align: right;\n",
       "    }\n",
       "</style>\n",
       "<table border=\"1\" class=\"dataframe\">\n",
       "  <thead>\n",
       "    <tr style=\"text-align: right;\">\n",
       "      <th></th>\n",
       "      <th>Column1</th>\n",
       "      <th>번호</th>\n",
       "      <th>제목</th>\n",
       "      <th>글쓴이</th>\n",
       "      <th>등록일</th>\n",
       "      <th>조회</th>\n",
       "      <th>추천</th>\n",
       "      <th>주소</th>\n",
       "      <th>내용</th>\n",
       "    </tr>\n",
       "  </thead>\n",
       "  <tbody>\n",
       "    <tr>\n",
       "      <th>0</th>\n",
       "      <td>0</td>\n",
       "      <td>326558</td>\n",
       "      <td>[기타]환자가되어 집에서 놀게 되어서 대리육성진행해봅니다</td>\n",
       "      <td>육성과장감자</td>\n",
       "      <td>2022-04-23 12:44</td>\n",
       "      <td>69</td>\n",
       "      <td>0</td>\n",
       "      <td>https://www.inven.co.kr/board/df/3911/326558</td>\n",
       "      <td>집피로도 기준1~100 35000 1~95 300001~90 25000 1~85 2...</td>\n",
       "    </tr>\n",
       "    <tr>\n",
       "      <th>1</th>\n",
       "      <td>1</td>\n",
       "      <td>326557</td>\n",
       "      <td>[잡담]형들 아라드 패스에서 주는 아시아 아바타 궁금한게 있는데</td>\n",
       "      <td>아크델린</td>\n",
       "      <td>2022-04-23 1:58</td>\n",
       "      <td>128</td>\n",
       "      <td>0</td>\n",
       "      <td>https://www.inven.co.kr/board/df/3911/326557</td>\n",
       "      <td>이거 아바타로 깠을 때 거래 가능이야?? 아니면 거래불가 템이야??상자는 계정귀속인...</td>\n",
       "    </tr>\n",
       "    <tr>\n",
       "      <th>2</th>\n",
       "      <td>2</td>\n",
       "      <td>326555</td>\n",
       "      <td>[잡담]안녕하세요 이번에 던파 찍먹해보려는 던린이입니다</td>\n",
       "      <td>누리레느</td>\n",
       "      <td>2022-04-22 20:37</td>\n",
       "      <td>116</td>\n",
       "      <td>0</td>\n",
       "      <td>https://www.inven.co.kr/board/df/3911/326555</td>\n",
       "      <td>일단 110까진 스토리?같은거만 밀면되나요?</td>\n",
       "    </tr>\n",
       "    <tr>\n",
       "      <th>3</th>\n",
       "      <td>3</td>\n",
       "      <td>326554</td>\n",
       "      <td>[잡담]무과금 좋은케릭 먼가요?</td>\n",
       "      <td>롤그만하자</td>\n",
       "      <td>2022-04-22 17:49</td>\n",
       "      <td>234</td>\n",
       "      <td>0</td>\n",
       "      <td>https://www.inven.co.kr/board/df/3911/326554</td>\n",
       "      <td>무과금케릭추천좀해주세요 ㅎㅎ</td>\n",
       "    </tr>\n",
       "    <tr>\n",
       "      <th>4</th>\n",
       "      <td>4</td>\n",
       "      <td>326550</td>\n",
       "      <td>[잡담]캐릭추천좀) 사거리 제일 긴 직업 뭐있나요?</td>\n",
       "      <td>슈퍼꼴데</td>\n",
       "      <td>2022-04-21 21:45</td>\n",
       "      <td>313</td>\n",
       "      <td>0</td>\n",
       "      <td>https://www.inven.co.kr/board/df/3911/326550</td>\n",
       "      <td>스나충이라 총쏘는 직업 중 사거리 제일 긴 거 추천좀 해주세요</td>\n",
       "    </tr>\n",
       "    <tr>\n",
       "      <th>...</th>\n",
       "      <td>...</td>\n",
       "      <td>...</td>\n",
       "      <td>...</td>\n",
       "      <td>...</td>\n",
       "      <td>...</td>\n",
       "      <td>...</td>\n",
       "      <td>...</td>\n",
       "      <td>...</td>\n",
       "      <td>...</td>\n",
       "    </tr>\n",
       "    <tr>\n",
       "      <th>5546</th>\n",
       "      <td>1946</td>\n",
       "      <td>319274</td>\n",
       "      <td>[잡담]인기검색어 뜨길레 구경옴</td>\n",
       "      <td>총몽</td>\n",
       "      <td>2020-01-09 13:57</td>\n",
       "      <td>803</td>\n",
       "      <td>0</td>\n",
       "      <td>https://www.inven.co.kr/board/df/3911/319274?p=93</td>\n",
       "      <td>음.. 뭐가나오건이 하락세를 막을수가 없는 기분인데?ㄷ</td>\n",
       "    </tr>\n",
       "    <tr>\n",
       "      <th>5547</th>\n",
       "      <td>1947</td>\n",
       "      <td>319272</td>\n",
       "      <td>[잡담]크리처 .....토나온다 ㅠ</td>\n",
       "      <td>고양이님</td>\n",
       "      <td>2020-01-09 12:04</td>\n",
       "      <td>1049</td>\n",
       "      <td>0</td>\n",
       "      <td>https://www.inven.co.kr/board/df/3911/319272?p=93</td>\n",
       "      <td>레벨링 + 크증18퍼 + 65스텟 .. 어우 ;</td>\n",
       "    </tr>\n",
       "    <tr>\n",
       "      <th>5548</th>\n",
       "      <td>1948</td>\n",
       "      <td>319271</td>\n",
       "      <td>[잡담]각성의서 나오네?</td>\n",
       "      <td>Noir</td>\n",
       "      <td>2020-01-09 5:55</td>\n",
       "      <td>1829</td>\n",
       "      <td>0</td>\n",
       "      <td>https://www.inven.co.kr/board/df/3911/319271?p=93</td>\n",
       "      <td>그거 아심?던파 한도 이제 100임 ㅋㅋ</td>\n",
       "    </tr>\n",
       "    <tr>\n",
       "      <th>5549</th>\n",
       "      <td>1949</td>\n",
       "      <td>319270</td>\n",
       "      <td>[잡담]드디어 업데이트날 ㅠㅠ</td>\n",
       "      <td>밤손님</td>\n",
       "      <td>2020-01-09 2:49</td>\n",
       "      <td>685</td>\n",
       "      <td>0</td>\n",
       "      <td>https://www.inven.co.kr/board/df/3911/319270?p=93</td>\n",
       "      <td>연장점검 예정</td>\n",
       "    </tr>\n",
       "    <tr>\n",
       "      <th>5550</th>\n",
       "      <td>1950</td>\n",
       "      <td>319268</td>\n",
       "      <td>[잡담]쿠노이치가 본캐인데 너무 재밌네요 부캐 추천좀용</td>\n",
       "      <td>쓰크어</td>\n",
       "      <td>2020-01-09 0:12</td>\n",
       "      <td>942</td>\n",
       "      <td>0</td>\n",
       "      <td>https://www.inven.co.kr/board/df/3911/319268?p=93</td>\n",
       "      <td>일단 오늘 나올 여귀검3각은베가본드로 정했구용 나머지 하나 더 키우려는데남귀검-검신...</td>\n",
       "    </tr>\n",
       "  </tbody>\n",
       "</table>\n",
       "<p>5551 rows × 9 columns</p>\n",
       "</div>"
      ],
      "text/plain": [
       "      Column1      번호                                   제목     글쓴이  \\\n",
       "0           0  326558      [기타]환자가되어 집에서 놀게 되어서 대리육성진행해봅니다  육성과장감자   \n",
       "1           1  326557  [잡담]형들 아라드 패스에서 주는 아시아 아바타 궁금한게 있는데    아크델린   \n",
       "2           2  326555       [잡담]안녕하세요 이번에 던파 찍먹해보려는 던린이입니다    누리레느   \n",
       "3           3  326554                    [잡담]무과금 좋은케릭 먼가요?   롤그만하자   \n",
       "4           4  326550         [잡담]캐릭추천좀) 사거리 제일 긴 직업 뭐있나요?    슈퍼꼴데   \n",
       "...       ...     ...                                  ...     ...   \n",
       "5546     1946  319274                    [잡담]인기검색어 뜨길레 구경옴      총몽   \n",
       "5547     1947  319272                  [잡담]크리처 .....토나온다 ㅠ    고양이님   \n",
       "5548     1948  319271                        [잡담]각성의서 나오네?    Noir   \n",
       "5549     1949  319270                     [잡담]드디어 업데이트날 ㅠㅠ     밤손님   \n",
       "5550     1950  319268       [잡담]쿠노이치가 본캐인데 너무 재밌네요 부캐 추천좀용     쓰크어   \n",
       "\n",
       "                   등록일    조회  추천  \\\n",
       "0     2022-04-23 12:44    69   0   \n",
       "1      2022-04-23 1:58   128   0   \n",
       "2     2022-04-22 20:37   116   0   \n",
       "3     2022-04-22 17:49   234   0   \n",
       "4     2022-04-21 21:45   313   0   \n",
       "...                ...   ...  ..   \n",
       "5546  2020-01-09 13:57   803   0   \n",
       "5547  2020-01-09 12:04  1049   0   \n",
       "5548   2020-01-09 5:55  1829   0   \n",
       "5549   2020-01-09 2:49   685   0   \n",
       "5550   2020-01-09 0:12   942   0   \n",
       "\n",
       "                                                     주소  \\\n",
       "0          https://www.inven.co.kr/board/df/3911/326558   \n",
       "1          https://www.inven.co.kr/board/df/3911/326557   \n",
       "2          https://www.inven.co.kr/board/df/3911/326555   \n",
       "3          https://www.inven.co.kr/board/df/3911/326554   \n",
       "4          https://www.inven.co.kr/board/df/3911/326550   \n",
       "...                                                 ...   \n",
       "5546  https://www.inven.co.kr/board/df/3911/319274?p=93   \n",
       "5547  https://www.inven.co.kr/board/df/3911/319272?p=93   \n",
       "5548  https://www.inven.co.kr/board/df/3911/319271?p=93   \n",
       "5549  https://www.inven.co.kr/board/df/3911/319270?p=93   \n",
       "5550  https://www.inven.co.kr/board/df/3911/319268?p=93   \n",
       "\n",
       "                                                     내용  \n",
       "0     집피로도 기준1~100 35000 1~95 300001~90 25000 1~85 2...  \n",
       "1     이거 아바타로 깠을 때 거래 가능이야?? 아니면 거래불가 템이야??상자는 계정귀속인...  \n",
       "2                              일단 110까진 스토리?같은거만 밀면되나요?  \n",
       "3                                       무과금케릭추천좀해주세요 ㅎㅎ  \n",
       "4                    스나충이라 총쏘는 직업 중 사거리 제일 긴 거 추천좀 해주세요  \n",
       "...                                                 ...  \n",
       "5546                     음.. 뭐가나오건이 하락세를 막을수가 없는 기분인데?ㄷ  \n",
       "5547                         레벨링 + 크증18퍼 + 65스텟 .. 어우 ;  \n",
       "5548                             그거 아심?던파 한도 이제 100임 ㅋㅋ  \n",
       "5549                                            연장점검 예정  \n",
       "5550  일단 오늘 나올 여귀검3각은베가본드로 정했구용 나머지 하나 더 키우려는데남귀검-검신...  \n",
       "\n",
       "[5551 rows x 9 columns]"
      ]
     },
     "execution_count": 11,
     "metadata": {},
     "output_type": "execute_result"
    }
   ],
   "source": [
    "df = pd.read_csv('./데이터/인벤.csv')"
   ]
  },
  {
   "cell_type": "code",
   "execution_count": 12,
   "metadata": {},
   "outputs": [],
   "source": [
    "df['제목수정']=' '\n",
    "df['제목+내용']=' '"
   ]
  },
  {
   "cell_type": "code",
   "execution_count": 19,
   "metadata": {},
   "outputs": [
    {
     "name": "stderr",
     "output_type": "stream",
     "text": [
      "<ipython-input-19-ac5900ea44e6>:2: SettingWithCopyWarning: \n",
      "A value is trying to be set on a copy of a slice from a DataFrame\n",
      "\n",
      "See the caveats in the documentation: https://pandas.pydata.org/pandas-docs/stable/user_guide/indexing.html#returning-a-view-versus-a-copy\n",
      "  df['제목수정'][i]=df['제목'][i][4:]\n"
     ]
    }
   ],
   "source": [
    "for i in range(len(df)):\n",
    "    df['제목수정'][i]=df['제목'][i][4:]"
   ]
  },
  {
   "cell_type": "code",
   "execution_count": 31,
   "metadata": {},
   "outputs": [
    {
     "name": "stderr",
     "output_type": "stream",
     "text": [
      "<ipython-input-31-3fec7f0be66d>:3: SettingWithCopyWarning: \n",
      "A value is trying to be set on a copy of a slice from a DataFrame\n",
      "\n",
      "See the caveats in the documentation: https://pandas.pydata.org/pandas-docs/stable/user_guide/indexing.html#returning-a-view-versus-a-copy\n",
      "  df['제목+내용'][i]=df['제목수정'][i]+df['내용'][i]\n",
      "<ipython-input-31-3fec7f0be66d>:5: SettingWithCopyWarning: \n",
      "A value is trying to be set on a copy of a slice from a DataFrame\n",
      "\n",
      "See the caveats in the documentation: https://pandas.pydata.org/pandas-docs/stable/user_guide/indexing.html#returning-a-view-versus-a-copy\n",
      "  df['제목+내용'][i]=df['제목수정'][i]\n"
     ]
    }
   ],
   "source": [
    "for i in range(len(df)):\n",
    "    try:\n",
    "        df['제목+내용'][i]=df['제목수정'][i]+df['내용'][i]\n",
    "    except:\n",
    "        df['제목+내용'][i]=df['제목수정'][i]"
   ]
  },
  {
   "cell_type": "code",
   "execution_count": 41,
   "metadata": {},
   "outputs": [
    {
     "data": {
      "text/html": [
       "<div>\n",
       "<style scoped>\n",
       "    .dataframe tbody tr th:only-of-type {\n",
       "        vertical-align: middle;\n",
       "    }\n",
       "\n",
       "    .dataframe tbody tr th {\n",
       "        vertical-align: top;\n",
       "    }\n",
       "\n",
       "    .dataframe thead th {\n",
       "        text-align: right;\n",
       "    }\n",
       "</style>\n",
       "<table border=\"1\" class=\"dataframe\">\n",
       "  <thead>\n",
       "    <tr style=\"text-align: right;\">\n",
       "      <th></th>\n",
       "      <th>Column1</th>\n",
       "      <th>번호</th>\n",
       "      <th>제목</th>\n",
       "      <th>글쓴이</th>\n",
       "      <th>등록일</th>\n",
       "      <th>조회</th>\n",
       "      <th>추천</th>\n",
       "      <th>주소</th>\n",
       "      <th>내용</th>\n",
       "      <th>제목수정</th>\n",
       "      <th>제목+내용</th>\n",
       "    </tr>\n",
       "  </thead>\n",
       "  <tbody>\n",
       "  </tbody>\n",
       "</table>\n",
       "</div>"
      ],
      "text/plain": [
       "Empty DataFrame\n",
       "Columns: [Column1, 번호, 제목, 글쓴이, 등록일, 조회, 추천, 주소, 내용, 제목수정, 제목+내용]\n",
       "Index: []"
      ]
     },
     "execution_count": 41,
     "metadata": {},
     "output_type": "execute_result"
    }
   ],
   "source": [
    "df_신규=pd.DataFrame(columns={'Column1':[], '번호':[], '제목':[], '글쓴이':[], '등록일':[], '조회':[], '추천':[], \n",
    "                            '주소':[], '내용':[], '제목수정':[],'제목+내용':[]})\n",
    "\n",
    "df_복귀=pd.DataFrame(columns={'Column1':[], '번호':[], '제목':[], '글쓴이':[], '등록일':[], '조회':[], '추천':[], \n",
    "                            '주소':[], '내용':[], '제목수정':[],'제목+내용':[]})"
   ]
  },
  {
   "cell_type": "code",
   "execution_count": 54,
   "metadata": {},
   "outputs": [],
   "source": [
    "for i in range(len(df)):\n",
    "    if '뉴비' in df['제목+내용'][i]:\n",
    "        df_신규 = df_신규.append(df.iloc[i])"
   ]
  },
  {
   "cell_type": "code",
   "execution_count": 58,
   "metadata": {},
   "outputs": [],
   "source": [
    "for i in range(len(df)):\n",
    "    if '복귀' in df['제목+내용'][i]:\n",
    "        df_복귀 = df_복귀.append(df.iloc[i])"
   ]
  },
  {
   "cell_type": "code",
   "execution_count": 56,
   "metadata": {},
   "outputs": [],
   "source": [
    "df_신규.to_csv('./데이터/데이터수정/인벤_신규.csv',encoding='utf-8')"
   ]
  },
  {
   "cell_type": "code",
   "execution_count": 59,
   "metadata": {},
   "outputs": [],
   "source": [
    "df_복귀.to_csv('./데이터/데이터수정/인벤_복귀.csv',encoding='utf-8')"
   ]
  },
  {
   "cell_type": "markdown",
   "metadata": {},
   "source": [
    "## 아카이브 신규/복귀\n",
    " - '제목+내용' 셀 추가"
   ]
  },
  {
   "cell_type": "code",
   "execution_count": 16,
   "metadata": {
    "scrolled": true
   },
   "outputs": [],
   "source": [
    "ak_new = pd.read_csv('./네오플/2. 원데이터/아카라이브_신규.csv')\n",
    "ak_back = pd.read_csv('./네오플/2. 원데이터/아카라이브_복귀.csv')"
   ]
  },
  {
   "cell_type": "code",
   "execution_count": 17,
   "metadata": {},
   "outputs": [],
   "source": [
    "ak_new['제목+내용']=' '\n",
    "ak_back['제목+내용']=' '"
   ]
  },
  {
   "cell_type": "code",
   "execution_count": 12,
   "metadata": {},
   "outputs": [
    {
     "name": "stderr",
     "output_type": "stream",
     "text": [
      "C:\\Users\\scppl\\.conda\\envs\\downgrade\\lib\\site-packages\\ipykernel_launcher.py:3: SettingWithCopyWarning: \n",
      "A value is trying to be set on a copy of a slice from a DataFrame\n",
      "\n",
      "See the caveats in the documentation: https://pandas.pydata.org/pandas-docs/stable/user_guide/indexing.html#returning-a-view-versus-a-copy\n",
      "  This is separate from the ipykernel package so we can avoid doing imports until\n"
     ]
    }
   ],
   "source": [
    "for i in range(len(ak_new)):\n",
    "    try:\n",
    "        ak_new['제목+내용'][i]=ak_new['제목'][i]+ak_new['내용'][i]\n",
    "    except:\n",
    "        if ak_new['내용'][i]==None:\n",
    "            ak_new['제목+내용'][i]=ak_new['제목'][i]\n",
    "        elif ak_new['제목'][i]==None:\n",
    "            ak_new['제목+내용'][i]=ak_new['제목'][i]"
   ]
  },
  {
   "cell_type": "code",
   "execution_count": 18,
   "metadata": {},
   "outputs": [
    {
     "name": "stderr",
     "output_type": "stream",
     "text": [
      "C:\\Users\\scppl\\.conda\\envs\\downgrade\\lib\\site-packages\\ipykernel_launcher.py:3: SettingWithCopyWarning: \n",
      "A value is trying to be set on a copy of a slice from a DataFrame\n",
      "\n",
      "See the caveats in the documentation: https://pandas.pydata.org/pandas-docs/stable/user_guide/indexing.html#returning-a-view-versus-a-copy\n",
      "  This is separate from the ipykernel package so we can avoid doing imports until\n"
     ]
    }
   ],
   "source": [
    "for i in range(len(ak_back)):\n",
    "    try:\n",
    "        ak_back['제목+내용'][i]=ak_back['제목'][i]+ak_back['내용'][i]\n",
    "    except:\n",
    "        if ak_back['내용'][i]==None:\n",
    "            ak_back['제목+내용'][i]=ak_back['제목'][i]\n",
    "        elif ak_back['제목'][i]==None:\n",
    "            ak_back['제목+내용'][i]=ak_back['제목'][i]"
   ]
  },
  {
   "cell_type": "code",
   "execution_count": 19,
   "metadata": {},
   "outputs": [],
   "source": [
    "ak_new.to_csv('./네오플/4. 데이터 가공/신규/아카라이브_수정_신규.csv',encoding='utf-8')\n",
    "ak_back.to_csv('./네오플/4. 데이터 가공/복귀/아카라이브_수정_복귀.csv',encoding='utf-8')"
   ]
  },
  {
   "cell_type": "markdown",
   "metadata": {},
   "source": [
    "## 네이버카페 신규/복귀\n",
    "  - 말머리 제거\n",
    "  - '제목'열과 '내용' 열 합쳐서 '제목+내용'열 생성"
   ]
  },
  {
   "cell_type": "code",
   "execution_count": null,
   "metadata": {},
   "outputs": [],
   "source": [
    "naver_back = pd.read_csv(\"D:/project/2022/주원포폴/네오플/2. 원데이터/네이버카페_복귀.csv\",encoding='utf-8')\n",
    "naver_back"
   ]
  },
  {
   "cell_type": "markdown",
   "metadata": {},
   "source": [
    "### 말머리 제거"
   ]
  },
  {
   "cell_type": "code",
   "execution_count": null,
   "metadata": {},
   "outputs": [],
   "source": [
    "naver_back['제목수정']=' '"
   ]
  },
  {
   "cell_type": "code",
   "execution_count": null,
   "metadata": {},
   "outputs": [],
   "source": [
    "for i in range(len(naver_back)):\n",
    "    a = naver_back['제목'][i].find(']')\n",
    "    if a!=-1:\n",
    "        naver_back['제목수정'][i]=naver_back['제목'][i][a+1:]\n",
    "    else:\n",
    "        naver_back['제목수정'][i]=naver_back['제목'][i]"
   ]
  },
  {
   "cell_type": "markdown",
   "metadata": {},
   "source": [
    "### 제목+내용"
   ]
  },
  {
   "cell_type": "code",
   "execution_count": null,
   "metadata": {},
   "outputs": [],
   "source": [
    "naver_back['제목+내용']=' '"
   ]
  },
  {
   "cell_type": "code",
   "execution_count": null,
   "metadata": {},
   "outputs": [],
   "source": [
    "for i in range(len(naver_back)):\n",
    "    try:\n",
    "        naver_back['제목+내용'][i]=naver_back['제목수정'][i]+naver_back['내용'][i]\n",
    "    except:\n",
    "        naver_back['제목+내용'][i]=naver_back['제목수정'][i]"
   ]
  },
  {
   "cell_type": "code",
   "execution_count": null,
   "metadata": {},
   "outputs": [],
   "source": [
    "naver_back.to_csv(\"D:/project/2022/주원포폴/네오플/4. 데이터 가공/네이버카페_수정_복귀.csv\",encoding='utf-8')"
   ]
  }
 ],
 "metadata": {
  "hide_input": false,
  "kernelspec": {
   "display_name": "Python 3",
   "language": "python",
   "name": "python3"
  },
  "language_info": {
   "codemirror_mode": {
    "name": "ipython",
    "version": 3
   },
   "file_extension": ".py",
   "mimetype": "text/x-python",
   "name": "python",
   "nbconvert_exporter": "python",
   "pygments_lexer": "ipython3",
   "version": "3.8.8"
  },
  "toc": {
   "base_numbering": 1,
   "nav_menu": {},
   "number_sections": true,
   "sideBar": true,
   "skip_h1_title": false,
   "title_cell": "Table of Contents",
   "title_sidebar": "Contents",
   "toc_cell": false,
   "toc_position": {},
   "toc_section_display": true,
   "toc_window_display": false
  },
  "varInspector": {
   "cols": {
    "lenName": 16,
    "lenType": 16,
    "lenVar": 40
   },
   "kernels_config": {
    "python": {
     "delete_cmd_postfix": "",
     "delete_cmd_prefix": "del ",
     "library": "var_list.py",
     "varRefreshCmd": "print(var_dic_list())"
    },
    "r": {
     "delete_cmd_postfix": ") ",
     "delete_cmd_prefix": "rm(",
     "library": "var_list.r",
     "varRefreshCmd": "cat(var_dic_list()) "
    }
   },
   "types_to_exclude": [
    "module",
    "function",
    "builtin_function_or_method",
    "instance",
    "_Feature"
   ],
   "window_display": false
  }
 },
 "nbformat": 4,
 "nbformat_minor": 4
}
